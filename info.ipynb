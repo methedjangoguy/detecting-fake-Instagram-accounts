{
 "cells": [
  {
   "cell_type": "markdown",
   "metadata": {},
   "source": [
    "## Detecting Fake Instagram Accounts"
   ]
  },
  {
   "cell_type": "markdown",
   "metadata": {},
   "source": [
    "Envision yourself in the role of a data analyst, employed by Meta Company, with your position situated within the Instagram Safety Team. Picture a scenario where your superior assigns you a critical task centered around the detection of counterfeit Instagram profiles. This initiative stems from a noticeable surge in spam-laden content proliferating across Instagram, which is detrimentally impacting the overall user experience for the platform's audience. \n",
    "\n",
    "Contemplate the strategies and methodologies you would employ to tackle this challenge effectively. \n",
    "\n",
    "In the near horizon, specifically within the next 60 minutes, you are scheduled for a significant consultation. This meeting will bring you face-to-face with Mr. X, the esteemed head of data analytics at Instagram. The agenda of this notebook is to deliberate on the prospective direction and the anticipated outcomes of this pivotal project. \n",
    "\n",
    "As you prepare for this discussion, consider the various facets of your approach to identifying and mitigating the presence of fake accounts on Instagram, thereby enhancing the quality of user experience by curbing the spread of unwanted spam content."
   ]
  },
  {
   "cell_type": "markdown",
   "metadata": {},
   "source": [
    "Ensure you are prepared to articulate any uncertainties you may have and seek the necessary information.\n",
    "\n",
    "**Primary Objective:** Identify counterfeit Instagram profiles.\n",
    "\n",
    "**Key Considerations:**\n",
    "\n",
    "**Hypotheses for Identifying Potential Fake Accounts:**\n",
    "\n",
    "- Profiles with a minimal follower count are often fraudulent.\n",
    "- Usernames featuring a higher ratio of numerical digits to alphabetic characters are likely indicative of inauthentic accounts.\n",
    "- An absence of biographical information may suggest a profile is not genuine.\n",
    "- Biographies containing offensive language could be a marker of fake accounts.\n",
    "- The lack of a profile picture might signal an account's lack of authenticity.\n",
    "- Accounts that follow a large number of users, yet have few followers themselves, can be suspected of being fake.\n",
    "- A disproportionately high number of posts relative to the account's follower count could indicate inauthenticity.\n",
    "\n",
    "**The Significance of Data Analytics:**\n",
    "\n",
    "This delineation underscores the pivotal role of data analytics in our approach to discerning and addressing the issue of fake Instagram accounts. Through analytical scrutiny, we can validate these hypotheses and refine our strategy for safeguarding the user experience on the platform.\n",
    "\n",
    "**Actionable Step:**\n",
    "\n",
    "Proceed to engage with the jupyter notebook for hands-on data analysis to further this investigation."
   ]
  },
  {
   "cell_type": "markdown",
   "metadata": {},
   "source": [
    "The goal of the analysis is to find insights into the charecteristics of instagram fake accounts, such as common traits or patterns that differentiate them from real accounts. These insights will serve as the foundation for further analysis and modeling tasks aimed at developing a predictive model to detect fake instagram accounts based on their charecteristics."
   ]
  },
  {
   "cell_type": "code",
   "execution_count": null,
   "metadata": {},
   "outputs": [],
   "source": [
    "# Importing necessary librariesimport pandas as pd\n",
    "import numpy as np\n",
    "import matplotlib.pyplot as plt\n",
    "import seaborn as sns"
   ]
  },
  {
   "cell_type": "code",
   "execution_count": null,
   "metadata": {},
   "outputs": [],
   "source": [
    "# Defining the file path of the CSV file containing the data\n",
    "csvFile = \"./instagram_project/insta_data.csv\"\n",
    "\n",
    "# Loading the data from the CSV file into a pandas DataFrame\n",
    "df = pd.read_csv(csvFile)\n",
    "\n",
    "# Displaying the contents of the DataFrame\n",
    "df"
   ]
  },
  {
   "cell_type": "code",
   "execution_count": null,
   "metadata": {},
   "outputs": [],
   "source": [
    "# Getting the shape of the DataFrame\n",
    "df.shape"
   ]
  },
  {
   "cell_type": "code",
   "execution_count": null,
   "metadata": {},
   "outputs": [],
   "source": [
    "# Getting the first 5 rows of the DataFrame\n",
    "df.head()"
   ]
  },
  {
   "cell_type": "code",
   "execution_count": null,
   "metadata": {},
   "outputs": [],
   "source": [
    "# Getting information about the DataFrame\n",
    "df.info()"
   ]
  },
  {
   "cell_type": "code",
   "execution_count": null,
   "metadata": {},
   "outputs": [],
   "source": [
    "# Checking for missing values in the 'following' column of the DataFrame\n",
    "df[\"following\"].isnull()"
   ]
  },
  {
   "cell_type": "code",
   "execution_count": null,
   "metadata": {},
   "outputs": [],
   "source": [
    "# Creating a histogram of the 'following' column of the DataFrame using seaborn\n",
    "sns.histplot(df[\"following\"])"
   ]
  },
  {
   "cell_type": "code",
   "execution_count": null,
   "metadata": {},
   "outputs": [],
   "source": [
    "# Calculating the median of the 'following' column of the DataFrame\n",
    "following_median = df[\"following\"].median()\n",
    "\n",
    "# Filling missing values in the 'following' column with the median value\n",
    "df[\"following\"] = df[\"following\"].fillna(following_median)\n",
    "\n",
    "# Casting the 'following' column as integers\n",
    "df[\"following\"] = df[\"following\"].astype(int)\n",
    "\n",
    "# Printing the median value of the 'following' column\n",
    "following_median"
   ]
  },
  {
   "cell_type": "code",
   "execution_count": null,
   "metadata": {},
   "outputs": [],
   "source": [
    "# Getting information about the DataFrame\n",
    "df.info()"
   ]
  },
  {
   "cell_type": "code",
   "execution_count": null,
   "metadata": {},
   "outputs": [],
   "source": [
    "# Getting the unique values in the 'Private' column of the DataFrame\n",
    "df[\"Private\"].unique()"
   ]
  },
  {
   "cell_type": "code",
   "execution_count": null,
   "metadata": {},
   "outputs": [],
   "source": [
    "# Getting the unique values in the 'Fake' column of the DataFrame\n",
    "df['Fake'].unique()"
   ]
  },
  {
   "cell_type": "markdown",
   "metadata": {},
   "source": [
    "**Hypothesis:** Profiles with a minimal follower count are often fraudulent."
   ]
  },
  {
   "cell_type": "code",
   "execution_count": null,
   "metadata": {},
   "outputs": [],
   "source": [
    "sns.scatterplot(data = df, x = 'followers', y = 'posts')"
   ]
  },
  {
   "cell_type": "markdown",
   "metadata": {},
   "source": [
    "**Hypothesis:** Profiles with a minimal follower count and less number of posts are often fraudulent"
   ]
  },
  {
   "cell_type": "code",
   "execution_count": null,
   "metadata": {},
   "outputs": [],
   "source": [
    "sns.scatterplot(data=df, x=\"followers\", y=\"posts\", hue=\"Fake\")"
   ]
  },
  {
   "cell_type": "markdown",
   "metadata": {},
   "source": [
    "**Hypothesis:** Accounts with less number of followers and a high number of following are fake accounts."
   ]
  },
  {
   "cell_type": "code",
   "execution_count": null,
   "metadata": {},
   "outputs": [],
   "source": [
    "sns.scatterplot(data=df, x=\"followers\", y=\"following\", hue=\"Fake\")"
   ]
  },
  {
   "cell_type": "markdown",
   "metadata": {},
   "source": [
    "**Hypothesis:** Presence of a profile photo is more common in real instagram accounts compared to fake."
   ]
  },
  {
   "cell_type": "code",
   "execution_count": null,
   "metadata": {},
   "outputs": [],
   "source": [
    "sns.countplot(data=df, x=\"profile_picture\", hue=\"Fake\")"
   ]
  },
  {
   "cell_type": "markdown",
   "metadata": {},
   "source": [
    "**Hypothesis:** Private accounts are more likely to be real instagram accounts compared to fake."
   ]
  },
  {
   "cell_type": "code",
   "execution_count": null,
   "metadata": {},
   "outputs": [],
   "source": [
    "sns.countplot(data=df, x=\"Private\", hue=\"Fake\")"
   ]
  },
  {
   "cell_type": "markdown",
   "metadata": {},
   "source": [
    "### Data for ML Model"
   ]
  },
  {
   "cell_type": "code",
   "execution_count": null,
   "metadata": {},
   "outputs": [],
   "source": [
    "# Replacing values in the 'profile_picture' column of the DataFrame\n",
    "df[\"profile_picture\"] = df[\"profile_picture\"].replace({\"yes\": 1, \"no\": 0})\n",
    "\n",
    "# Replacing values in the 'Private' column of the DataFrame\n",
    "df[\"Private\"] = df[\"Private\"].replace({\"private\": 1, \"public\": 0})\n",
    "\n",
    "# Replacing values in the 'Fake' column of the DataFrame\n",
    "df[\"Fake\"] = df[\"Fake\"].replace({\"fake\": 1, \"real\": 0})\n",
    "\n",
    "# Printing the first 10 rows of the DataFrame\n",
    "df.head(10)"
   ]
  },
  {
   "cell_type": "code",
   "execution_count": null,
   "metadata": {},
   "outputs": [],
   "source": [
    "df.info()"
   ]
  },
  {
   "cell_type": "markdown",
   "metadata": {},
   "source": [
    "**To determine whether an account is authentic or fraudulent based on its characteristics column**"
   ]
  },
  {
   "cell_type": "code",
   "execution_count": null,
   "metadata": {},
   "outputs": [],
   "source": [
    "# Dropping the 'Fake' column from the DataFrame to create the feature matrix X\n",
    "X = df.drop(\"Fake\", axis=1)\n",
    "\n",
    "# Selecting the 'Fake' column from the DataFrame to create the target vector y\n",
    "y = df[\"Fake\"]"
   ]
  },
  {
   "cell_type": "code",
   "execution_count": null,
   "metadata": {},
   "outputs": [],
   "source": [
    "# Importing the train_test_split function from the sklearn.model_selection module\n",
    "from sklearn.model_selection import train_test_split\n",
    "\n",
    "# Splitting the feature matrix X and target vector y into training and testing sets using the train_test_split function\n",
    "X_train, X_test, y_train, y_test = train_test_split(X, y, test_size=0.2, random_state=0)"
   ]
  },
  {
   "cell_type": "code",
   "execution_count": null,
   "metadata": {},
   "outputs": [],
   "source": [
    "X_train.head()"
   ]
  },
  {
   "cell_type": "code",
   "execution_count": null,
   "metadata": {},
   "outputs": [],
   "source": [
    "# Importing the LogisticRegression class from the sklearn.linear_model module\n",
    "from sklearn.linear_model import LogisticRegression\n",
    "\n",
    "# Creating an instance of the LogisticRegression class\n",
    "clf = LogisticRegression()\n",
    "\n",
    "# Fitting the LogisticRegression model to the training data using the fit method\n",
    "clf.fit(X_train, y_train)\n",
    "\n",
    "# Making predictions on the testing data using the predict method\n",
    "y_pred = clf.predict(X_test)"
   ]
  },
  {
   "cell_type": "code",
   "execution_count": null,
   "metadata": {},
   "outputs": [],
   "source": [
    "y_pred"
   ]
  },
  {
   "cell_type": "code",
   "execution_count": null,
   "metadata": {},
   "outputs": [],
   "source": [
    "y_test"
   ]
  },
  {
   "cell_type": "code",
   "execution_count": null,
   "metadata": {},
   "outputs": [],
   "source": [
    "# Importing the accuracy_score function from the sklearn.metrics module\n",
    "from sklearn.metrics import accuracy_score\n",
    "\n",
    "# Calculating the accuracy of the model using the accuracy_score function\n",
    "accuracy = accuracy_score(y_test, y_pred)\n",
    "\n",
    "# Printing the accuracy of the model\n",
    "print(\"Accuracy:\", accuracy)"
   ]
  }
 ],
 "metadata": {
  "kernelspec": {
   "display_name": "automation",
   "language": "python",
   "name": "python3"
  },
  "language_info": {
   "codemirror_mode": {
    "name": "ipython",
    "version": 3
   },
   "file_extension": ".py",
   "mimetype": "text/x-python",
   "name": "python",
   "nbconvert_exporter": "python",
   "pygments_lexer": "ipython3",
   "version": "3.11.2"
  }
 },
 "nbformat": 4,
 "nbformat_minor": 2
}
